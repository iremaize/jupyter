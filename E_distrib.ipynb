{
 "cells": [
  {
   "cell_type": "code",
   "execution_count": 196,
   "id": "865fb6fb",
   "metadata": {},
   "outputs": [],
   "source": [
    "import pandas as pd\n",
    "from scipy import stats\n",
    "%matplotlib inline\n",
    "import matplotlib.pyplot as plt\n",
    "import seaborn as sns\n",
    "from collections import Counter"
   ]
  },
  {
   "cell_type": "code",
   "execution_count": 81,
   "id": "90513931",
   "metadata": {},
   "outputs": [],
   "source": [
    "data = pd.read_excel('loss01.xlsx')"
   ]
  },
  {
   "cell_type": "code",
   "execution_count": 9,
   "id": "02cfe0f8",
   "metadata": {},
   "outputs": [
    {
     "data": {
      "text/html": [
       "<div>\n",
       "<style scoped>\n",
       "    .dataframe tbody tr th:only-of-type {\n",
       "        vertical-align: middle;\n",
       "    }\n",
       "\n",
       "    .dataframe tbody tr th {\n",
       "        vertical-align: top;\n",
       "    }\n",
       "\n",
       "    .dataframe thead th {\n",
       "        text-align: right;\n",
       "    }\n",
       "</style>\n",
       "<table border=\"1\" class=\"dataframe\">\n",
       "  <thead>\n",
       "    <tr style=\"text-align: right;\">\n",
       "      <th></th>\n",
       "      <th>Kscraper=</th>\n",
       "      <th>Unnamed: 1</th>\n",
       "      <th>0.00976575387660838</th>\n",
       "      <th>Unnamed: 3</th>\n",
       "      <th>Unnamed: 4</th>\n",
       "      <th>Unnamed: 5</th>\n",
       "      <th>Unnamed: 6</th>\n",
       "      <th>Unnamed: 7</th>\n",
       "      <th>Unnamed: 8</th>\n",
       "      <th>Unnamed: 9</th>\n",
       "      <th>...</th>\n",
       "      <th>Unnamed: 59</th>\n",
       "      <th>Unnamed: 60</th>\n",
       "      <th>Unnamed: 61</th>\n",
       "      <th>Unnamed: 62</th>\n",
       "      <th>Unnamed: 63</th>\n",
       "      <th>Unnamed: 64</th>\n",
       "      <th>Unnamed: 65</th>\n",
       "      <th>Unnamed: 66</th>\n",
       "      <th>Unnamed: 67</th>\n",
       "      <th>Unnamed: 68</th>\n",
       "    </tr>\n",
       "  </thead>\n",
       "  <tbody>\n",
       "    <tr>\n",
       "      <th>0</th>\n",
       "      <td>NaN</td>\n",
       "      <td>NaN</td>\n",
       "      <td>NaN</td>\n",
       "      <td>NaN</td>\n",
       "      <td>NaN</td>\n",
       "      <td>NaN</td>\n",
       "      <td>NaN</td>\n",
       "      <td>NaN</td>\n",
       "      <td>NaN</td>\n",
       "      <td>NaN</td>\n",
       "      <td>...</td>\n",
       "      <td>NaN</td>\n",
       "      <td>NaN</td>\n",
       "      <td>NaN</td>\n",
       "      <td>NaN</td>\n",
       "      <td>NaN</td>\n",
       "      <td>NaN</td>\n",
       "      <td>NaN</td>\n",
       "      <td>NaN</td>\n",
       "      <td>NaN</td>\n",
       "      <td>NaN</td>\n",
       "    </tr>\n",
       "    <tr>\n",
       "      <th>1</th>\n",
       "      <td>NaN</td>\n",
       "      <td>начальные координаты</td>\n",
       "      <td>NaN</td>\n",
       "      <td>NaN</td>\n",
       "      <td>NaN</td>\n",
       "      <td>NaN</td>\n",
       "      <td>начальные координаты оставшихся частиц</td>\n",
       "      <td>NaN</td>\n",
       "      <td>NaN</td>\n",
       "      <td>NaN</td>\n",
       "      <td>...</td>\n",
       "      <td>NaN</td>\n",
       "      <td>NaN</td>\n",
       "      <td>NaN</td>\n",
       "      <td>NaN</td>\n",
       "      <td>NaN</td>\n",
       "      <td>NaN</td>\n",
       "      <td>NaN</td>\n",
       "      <td>NaN</td>\n",
       "      <td>NaN</td>\n",
       "      <td>NaN</td>\n",
       "    </tr>\n",
       "    <tr>\n",
       "      <th>2</th>\n",
       "      <td>NaN</td>\n",
       "      <td>x</td>\n",
       "      <td>y</td>\n",
       "      <td>de</td>\n",
       "      <td>s</td>\n",
       "      <td>NaN</td>\n",
       "      <td>xxa</td>\n",
       "      <td>yya</td>\n",
       "      <td>dea</td>\n",
       "      <td>s</td>\n",
       "      <td>...</td>\n",
       "      <td>Ошибки</td>\n",
       "      <td>NaN</td>\n",
       "      <td>NaN</td>\n",
       "      <td>NaN</td>\n",
       "      <td>NaN</td>\n",
       "      <td>NaN</td>\n",
       "      <td>NaN</td>\n",
       "      <td>NaN</td>\n",
       "      <td>NaN</td>\n",
       "      <td>NaN</td>\n",
       "    </tr>\n",
       "    <tr>\n",
       "      <th>3</th>\n",
       "      <td>NaN</td>\n",
       "      <td>0</td>\n",
       "      <td>NaN</td>\n",
       "      <td>NaN</td>\n",
       "      <td>NaN</td>\n",
       "      <td>NaN</td>\n",
       "      <td>0</td>\n",
       "      <td>NaN</td>\n",
       "      <td>NaN</td>\n",
       "      <td>NaN</td>\n",
       "      <td>...</td>\n",
       "      <td>DX0B</td>\n",
       "      <td>DX0Q</td>\n",
       "      <td>DX0S</td>\n",
       "      <td>0.0</td>\n",
       "      <td>0.0</td>\n",
       "      <td>0.0</td>\n",
       "      <td>Npart</td>\n",
       "      <td>35672.0</td>\n",
       "      <td>bx,m</td>\n",
       "      <td>15.673888</td>\n",
       "    </tr>\n",
       "    <tr>\n",
       "      <th>4</th>\n",
       "      <td>NaN</td>\n",
       "      <td>NaN</td>\n",
       "      <td>NaN</td>\n",
       "      <td>NaN</td>\n",
       "      <td>NaN</td>\n",
       "      <td>NaN</td>\n",
       "      <td>NaN</td>\n",
       "      <td>NaN</td>\n",
       "      <td>NaN</td>\n",
       "      <td>NaN</td>\n",
       "      <td>...</td>\n",
       "      <td>DY0B</td>\n",
       "      <td>DY0Q</td>\n",
       "      <td>DY0S</td>\n",
       "      <td>0.0</td>\n",
       "      <td>0.0</td>\n",
       "      <td>0.0</td>\n",
       "      <td>deltP</td>\n",
       "      <td>0.0</td>\n",
       "      <td>ax</td>\n",
       "      <td>0.005536</td>\n",
       "    </tr>\n",
       "  </tbody>\n",
       "</table>\n",
       "<p>5 rows × 69 columns</p>\n",
       "</div>"
      ],
      "text/plain": [
       "   Kscraper=            Unnamed: 1 0.00976575387660838 Unnamed: 3 Unnamed: 4  \\\n",
       "0        NaN                   NaN                 NaN        NaN        NaN   \n",
       "1        NaN  начальные координаты                 NaN        NaN        NaN   \n",
       "2        NaN                     x                   y         de          s   \n",
       "3        NaN                     0                 NaN        NaN        NaN   \n",
       "4        NaN                   NaN                 NaN        NaN        NaN   \n",
       "\n",
       "   Unnamed: 5                              Unnamed: 6 Unnamed: 7 Unnamed: 8  \\\n",
       "0         NaN                                     NaN        NaN        NaN   \n",
       "1         NaN  начальные координаты оставшихся частиц        NaN        NaN   \n",
       "2         NaN                                     xxa        yya        dea   \n",
       "3         NaN                                       0        NaN        NaN   \n",
       "4         NaN                                     NaN        NaN        NaN   \n",
       "\n",
       "  Unnamed: 9  ...  Unnamed: 59 Unnamed: 60 Unnamed: 61 Unnamed: 62  \\\n",
       "0        NaN  ...          NaN         NaN         NaN         NaN   \n",
       "1        NaN  ...          NaN         NaN         NaN         NaN   \n",
       "2          s  ...       Ошибки         NaN         NaN         NaN   \n",
       "3        NaN  ...         DX0B        DX0Q        DX0S         0.0   \n",
       "4        NaN  ...         DY0B        DY0Q        DY0S         0.0   \n",
       "\n",
       "  Unnamed: 63  Unnamed: 64 Unnamed: 65  Unnamed: 66 Unnamed: 67  Unnamed: 68  \n",
       "0         NaN          NaN         NaN          NaN         NaN          NaN  \n",
       "1         NaN          NaN         NaN          NaN         NaN          NaN  \n",
       "2         NaN          NaN         NaN          NaN         NaN          NaN  \n",
       "3         0.0          0.0       Npart      35672.0        bx,m    15.673888  \n",
       "4         0.0          0.0       deltP          0.0          ax     0.005536  \n",
       "\n",
       "[5 rows x 69 columns]"
      ]
     },
     "execution_count": 9,
     "metadata": {},
     "output_type": "execute_result"
    }
   ],
   "source": [
    "data.head()"
   ]
  },
  {
   "cell_type": "code",
   "execution_count": 82,
   "id": "94125d88",
   "metadata": {},
   "outputs": [],
   "source": [
    "data = data.iloc[:,16:59]"
   ]
  },
  {
   "cell_type": "code",
   "execution_count": 25,
   "id": "6106025e",
   "metadata": {},
   "outputs": [],
   "source": [
    "LOST1 = data.iloc[:,[23,24,26]]"
   ]
  },
  {
   "cell_type": "code",
   "execution_count": 32,
   "id": "c91f8df5",
   "metadata": {},
   "outputs": [],
   "source": [
    "LOST1 = LOST1.iloc[2:-1]"
   ]
  },
  {
   "cell_type": "code",
   "execution_count": 33,
   "id": "6a42e0f2",
   "metadata": {},
   "outputs": [],
   "source": [
    "lost1 = LOST1"
   ]
  },
  {
   "cell_type": "code",
   "execution_count": 37,
   "id": "e7ca352f",
   "metadata": {},
   "outputs": [],
   "source": [
    "lost1 = lost1.dropna()"
   ]
  },
  {
   "cell_type": "code",
   "execution_count": 74,
   "id": "af38c382",
   "metadata": {},
   "outputs": [
    {
     "data": {
      "text/html": [
       "<div>\n",
       "<style scoped>\n",
       "    .dataframe tbody tr th:only-of-type {\n",
       "        vertical-align: middle;\n",
       "    }\n",
       "\n",
       "    .dataframe tbody tr th {\n",
       "        vertical-align: top;\n",
       "    }\n",
       "\n",
       "    .dataframe thead th {\n",
       "        text-align: right;\n",
       "    }\n",
       "</style>\n",
       "<table border=\"1\" class=\"dataframe\">\n",
       "  <thead>\n",
       "    <tr style=\"text-align: right;\">\n",
       "      <th></th>\n",
       "      <th>s</th>\n",
       "      <th>x</th>\n",
       "      <th>y</th>\n",
       "    </tr>\n",
       "  </thead>\n",
       "  <tbody>\n",
       "    <tr>\n",
       "      <th>2</th>\n",
       "      <td>s</td>\n",
       "      <td>x</td>\n",
       "      <td>y</td>\n",
       "    </tr>\n",
       "    <tr>\n",
       "      <th>3</th>\n",
       "      <td>269.844567</td>\n",
       "      <td>0.013515</td>\n",
       "      <td>0.000001</td>\n",
       "    </tr>\n",
       "    <tr>\n",
       "      <th>4</th>\n",
       "      <td>269.172793</td>\n",
       "      <td>0.013854</td>\n",
       "      <td>0.000001</td>\n",
       "    </tr>\n",
       "    <tr>\n",
       "      <th>5</th>\n",
       "      <td>264.649245</td>\n",
       "      <td>0.013935</td>\n",
       "      <td>0.00001</td>\n",
       "    </tr>\n",
       "    <tr>\n",
       "      <th>6</th>\n",
       "      <td>264.709245</td>\n",
       "      <td>0.013941</td>\n",
       "      <td>0.000006</td>\n",
       "    </tr>\n",
       "  </tbody>\n",
       "</table>\n",
       "</div>"
      ],
      "text/plain": [
       "            s         x         y\n",
       "2           s         x         y\n",
       "3  269.844567  0.013515  0.000001\n",
       "4  269.172793  0.013854  0.000001\n",
       "5  264.649245  0.013935   0.00001\n",
       "6  264.709245  0.013941  0.000006"
      ]
     },
     "execution_count": 74,
     "metadata": {},
     "output_type": "execute_result"
    }
   ],
   "source": [
    "lost1.head()"
   ]
  },
  {
   "cell_type": "code",
   "execution_count": 64,
   "id": "c06c49f8",
   "metadata": {},
   "outputs": [],
   "source": [
    "lost1.columns = lost1.iloc[0]"
   ]
  },
  {
   "cell_type": "code",
   "execution_count": 76,
   "id": "fd721c84",
   "metadata": {},
   "outputs": [],
   "source": [
    "lost1 = lost1.iloc[1:-1].reset_index(drop=True)"
   ]
  },
  {
   "cell_type": "code",
   "execution_count": 77,
   "id": "2fe9da27",
   "metadata": {},
   "outputs": [
    {
     "data": {
      "text/html": [
       "<div>\n",
       "<style scoped>\n",
       "    .dataframe tbody tr th:only-of-type {\n",
       "        vertical-align: middle;\n",
       "    }\n",
       "\n",
       "    .dataframe tbody tr th {\n",
       "        vertical-align: top;\n",
       "    }\n",
       "\n",
       "    .dataframe thead th {\n",
       "        text-align: right;\n",
       "    }\n",
       "</style>\n",
       "<table border=\"1\" class=\"dataframe\">\n",
       "  <thead>\n",
       "    <tr style=\"text-align: right;\">\n",
       "      <th></th>\n",
       "      <th>s</th>\n",
       "      <th>x</th>\n",
       "      <th>y</th>\n",
       "    </tr>\n",
       "  </thead>\n",
       "  <tbody>\n",
       "    <tr>\n",
       "      <th>0</th>\n",
       "      <td>269.844567</td>\n",
       "      <td>0.013515</td>\n",
       "      <td>0.000001</td>\n",
       "    </tr>\n",
       "    <tr>\n",
       "      <th>1</th>\n",
       "      <td>269.172793</td>\n",
       "      <td>0.013854</td>\n",
       "      <td>0.000001</td>\n",
       "    </tr>\n",
       "    <tr>\n",
       "      <th>2</th>\n",
       "      <td>264.649245</td>\n",
       "      <td>0.013935</td>\n",
       "      <td>0.00001</td>\n",
       "    </tr>\n",
       "    <tr>\n",
       "      <th>3</th>\n",
       "      <td>264.709245</td>\n",
       "      <td>0.013941</td>\n",
       "      <td>0.000006</td>\n",
       "    </tr>\n",
       "    <tr>\n",
       "      <th>4</th>\n",
       "      <td>265.430051</td>\n",
       "      <td>0.013502</td>\n",
       "      <td>-0.000002</td>\n",
       "    </tr>\n",
       "    <tr>\n",
       "      <th>...</th>\n",
       "      <td>...</td>\n",
       "      <td>...</td>\n",
       "      <td>...</td>\n",
       "    </tr>\n",
       "    <tr>\n",
       "      <th>30304</th>\n",
       "      <td>60.669223</td>\n",
       "      <td>0.000525</td>\n",
       "      <td>0.003007</td>\n",
       "    </tr>\n",
       "    <tr>\n",
       "      <th>30305</th>\n",
       "      <td>358.257273</td>\n",
       "      <td>0.000794</td>\n",
       "      <td>0.003033</td>\n",
       "    </tr>\n",
       "    <tr>\n",
       "      <th>30306</th>\n",
       "      <td>60.765191</td>\n",
       "      <td>-0.000282</td>\n",
       "      <td>0.003034</td>\n",
       "    </tr>\n",
       "    <tr>\n",
       "      <th>30307</th>\n",
       "      <td>90.523996</td>\n",
       "      <td>0.001881</td>\n",
       "      <td>-0.003016</td>\n",
       "    </tr>\n",
       "    <tr>\n",
       "      <th>30308</th>\n",
       "      <td>296.148534</td>\n",
       "      <td>-0.00142</td>\n",
       "      <td>0.003016</td>\n",
       "    </tr>\n",
       "  </tbody>\n",
       "</table>\n",
       "<p>30309 rows × 3 columns</p>\n",
       "</div>"
      ],
      "text/plain": [
       "                s         x         y\n",
       "0      269.844567  0.013515  0.000001\n",
       "1      269.172793  0.013854  0.000001\n",
       "2      264.649245  0.013935   0.00001\n",
       "3      264.709245  0.013941  0.000006\n",
       "4      265.430051  0.013502 -0.000002\n",
       "...           ...       ...       ...\n",
       "30304   60.669223  0.000525  0.003007\n",
       "30305  358.257273  0.000794  0.003033\n",
       "30306   60.765191 -0.000282  0.003034\n",
       "30307   90.523996  0.001881 -0.003016\n",
       "30308  296.148534  -0.00142  0.003016\n",
       "\n",
       "[30309 rows x 3 columns]"
      ]
     },
     "execution_count": 77,
     "metadata": {},
     "output_type": "execute_result"
    }
   ],
   "source": [
    "lost1"
   ]
  },
  {
   "cell_type": "code",
   "execution_count": 78,
   "id": "cf28db8c",
   "metadata": {},
   "outputs": [
    {
     "data": {
      "text/plain": [
       "<AxesSubplot:xlabel='x', ylabel='y'>"
      ]
     },
     "execution_count": 78,
     "metadata": {},
     "output_type": "execute_result"
    },
    {
     "data": {
      "image/png": "[encoded data removed]",
      "text/plain": [
       "<Figure size 432x288 with 1 Axes>"
      ]
     },
     "metadata": {
      "needs_background": "light"
     },
     "output_type": "display_data"
    }
   ],
   "source": [
    "lost1.plot(x='x', y='y', kind='scatter')"
   ]
  },
  {
   "cell_type": "code",
   "execution_count": 83,
   "id": "95b5b9e0",
   "metadata": {},
   "outputs": [],
   "source": [
    "data2 = pd.read_excel('loss01.xlsx', sheet_name=2)"
   ]
  },
  {
   "cell_type": "code",
   "execution_count": 84,
   "id": "f718c7d6",
   "metadata": {},
   "outputs": [
    {
     "data": {
      "text/html": [
       "<div>\n",
       "<style scoped>\n",
       "    .dataframe tbody tr th:only-of-type {\n",
       "        vertical-align: middle;\n",
       "    }\n",
       "\n",
       "    .dataframe tbody tr th {\n",
       "        vertical-align: top;\n",
       "    }\n",
       "\n",
       "    .dataframe thead th {\n",
       "        text-align: right;\n",
       "    }\n",
       "</style>\n",
       "<table border=\"1\" class=\"dataframe\">\n",
       "  <thead>\n",
       "    <tr style=\"text-align: right;\">\n",
       "      <th></th>\n",
       "      <th>Unnamed: 0</th>\n",
       "      <th>Unnamed: 1</th>\n",
       "      <th>Unnamed: 2</th>\n",
       "      <th>Unnamed: 3</th>\n",
       "      <th>Unnamed: 4</th>\n",
       "    </tr>\n",
       "  </thead>\n",
       "  <tbody>\n",
       "    <tr>\n",
       "      <th>0</th>\n",
       "      <td>NaN</td>\n",
       "      <td>NaN</td>\n",
       "      <td>1.000000</td>\n",
       "      <td>2.000000</td>\n",
       "      <td>NaN</td>\n",
       "    </tr>\n",
       "    <tr>\n",
       "      <th>1</th>\n",
       "      <td>NaN</td>\n",
       "      <td>xc</td>\n",
       "      <td>0.000000</td>\n",
       "      <td>0.000000</td>\n",
       "      <td>NaN</td>\n",
       "    </tr>\n",
       "    <tr>\n",
       "      <th>2</th>\n",
       "      <td>NaN</td>\n",
       "      <td>yc</td>\n",
       "      <td>0.000000</td>\n",
       "      <td>0.000000</td>\n",
       "      <td>NaN</td>\n",
       "    </tr>\n",
       "    <tr>\n",
       "      <th>3</th>\n",
       "      <td>NaN</td>\n",
       "      <td>ax</td>\n",
       "      <td>-0.013500</td>\n",
       "      <td>-0.013500</td>\n",
       "      <td>NaN</td>\n",
       "    </tr>\n",
       "    <tr>\n",
       "      <th>4</th>\n",
       "      <td>NaN</td>\n",
       "      <td>ax</td>\n",
       "      <td>0.013500</td>\n",
       "      <td>0.013500</td>\n",
       "      <td>NaN</td>\n",
       "    </tr>\n",
       "    <tr>\n",
       "      <th>...</th>\n",
       "      <td>...</td>\n",
       "      <td>...</td>\n",
       "      <td>...</td>\n",
       "      <td>...</td>\n",
       "      <td>...</td>\n",
       "    </tr>\n",
       "    <tr>\n",
       "      <th>69</th>\n",
       "      <td>6.0</td>\n",
       "      <td>0.012962</td>\n",
       "      <td>-0.003772</td>\n",
       "      <td>0.012962</td>\n",
       "      <td>0.003772</td>\n",
       "    </tr>\n",
       "    <tr>\n",
       "      <th>70</th>\n",
       "      <td>6.1</td>\n",
       "      <td>0.013274</td>\n",
       "      <td>-0.002459</td>\n",
       "      <td>0.013274</td>\n",
       "      <td>0.002459</td>\n",
       "    </tr>\n",
       "    <tr>\n",
       "      <th>71</th>\n",
       "      <td>6.2</td>\n",
       "      <td>0.013453</td>\n",
       "      <td>-0.001122</td>\n",
       "      <td>0.013453</td>\n",
       "      <td>0.001122</td>\n",
       "    </tr>\n",
       "    <tr>\n",
       "      <th>72</th>\n",
       "      <td>6.3</td>\n",
       "      <td>0.013498</td>\n",
       "      <td>0.000227</td>\n",
       "      <td>0.013498</td>\n",
       "      <td>-0.000227</td>\n",
       "    </tr>\n",
       "    <tr>\n",
       "      <th>73</th>\n",
       "      <td>6.4</td>\n",
       "      <td>0.013408</td>\n",
       "      <td>0.001573</td>\n",
       "      <td>0.013408</td>\n",
       "      <td>-0.001573</td>\n",
       "    </tr>\n",
       "  </tbody>\n",
       "</table>\n",
       "<p>74 rows × 5 columns</p>\n",
       "</div>"
      ],
      "text/plain": [
       "    Unnamed: 0 Unnamed: 1  Unnamed: 2  Unnamed: 3  Unnamed: 4\n",
       "0          NaN        NaN    1.000000    2.000000         NaN\n",
       "1          NaN         xc    0.000000    0.000000         NaN\n",
       "2          NaN         yc    0.000000    0.000000         NaN\n",
       "3          NaN         ax   -0.013500   -0.013500         NaN\n",
       "4          NaN         ax    0.013500    0.013500         NaN\n",
       "..         ...        ...         ...         ...         ...\n",
       "69         6.0   0.012962   -0.003772    0.012962    0.003772\n",
       "70         6.1   0.013274   -0.002459    0.013274    0.002459\n",
       "71         6.2   0.013453   -0.001122    0.013453    0.001122\n",
       "72         6.3   0.013498    0.000227    0.013498   -0.000227\n",
       "73         6.4   0.013408    0.001573    0.013408   -0.001573\n",
       "\n",
       "[74 rows x 5 columns]"
      ]
     },
     "execution_count": 84,
     "metadata": {},
     "output_type": "execute_result"
    }
   ],
   "source": []
  },
  {
   "cell_type": "code",
   "execution_count": 88,
   "id": "253755ba",
   "metadata": {},
   "outputs": [],
   "source": [
    "ellipse_coord = data2.iloc[9:-1, [3,4]]"
   ]
  },
  {
   "cell_type": "code",
   "execution_count": 89,
   "id": "3d776e28",
   "metadata": {},
   "outputs": [
    {
     "data": {
      "text/html": [
       "<div>\n",
       "<style scoped>\n",
       "    .dataframe tbody tr th:only-of-type {\n",
       "        vertical-align: middle;\n",
       "    }\n",
       "\n",
       "    .dataframe tbody tr th {\n",
       "        vertical-align: top;\n",
       "    }\n",
       "\n",
       "    .dataframe thead th {\n",
       "        text-align: right;\n",
       "    }\n",
       "</style>\n",
       "<table border=\"1\" class=\"dataframe\">\n",
       "  <thead>\n",
       "    <tr style=\"text-align: right;\">\n",
       "      <th></th>\n",
       "      <th>Unnamed: 3</th>\n",
       "      <th>Unnamed: 4</th>\n",
       "    </tr>\n",
       "  </thead>\n",
       "  <tbody>\n",
       "    <tr>\n",
       "      <th>9</th>\n",
       "      <td>0.013500</td>\n",
       "      <td>0.000000</td>\n",
       "    </tr>\n",
       "    <tr>\n",
       "      <th>10</th>\n",
       "      <td>0.013433</td>\n",
       "      <td>-0.001348</td>\n",
       "    </tr>\n",
       "    <tr>\n",
       "      <th>11</th>\n",
       "      <td>0.013231</td>\n",
       "      <td>-0.002682</td>\n",
       "    </tr>\n",
       "    <tr>\n",
       "      <th>12</th>\n",
       "      <td>0.012897</td>\n",
       "      <td>-0.003990</td>\n",
       "    </tr>\n",
       "    <tr>\n",
       "      <th>13</th>\n",
       "      <td>0.012434</td>\n",
       "      <td>-0.005257</td>\n",
       "    </tr>\n",
       "    <tr>\n",
       "      <th>...</th>\n",
       "      <td>...</td>\n",
       "      <td>...</td>\n",
       "    </tr>\n",
       "    <tr>\n",
       "      <th>68</th>\n",
       "      <td>0.012521</td>\n",
       "      <td>0.005047</td>\n",
       "    </tr>\n",
       "    <tr>\n",
       "      <th>69</th>\n",
       "      <td>0.012962</td>\n",
       "      <td>0.003772</td>\n",
       "    </tr>\n",
       "    <tr>\n",
       "      <th>70</th>\n",
       "      <td>0.013274</td>\n",
       "      <td>0.002459</td>\n",
       "    </tr>\n",
       "    <tr>\n",
       "      <th>71</th>\n",
       "      <td>0.013453</td>\n",
       "      <td>0.001122</td>\n",
       "    </tr>\n",
       "    <tr>\n",
       "      <th>72</th>\n",
       "      <td>0.013498</td>\n",
       "      <td>-0.000227</td>\n",
       "    </tr>\n",
       "  </tbody>\n",
       "</table>\n",
       "<p>64 rows × 2 columns</p>\n",
       "</div>"
      ],
      "text/plain": [
       "    Unnamed: 3  Unnamed: 4\n",
       "9     0.013500    0.000000\n",
       "10    0.013433   -0.001348\n",
       "11    0.013231   -0.002682\n",
       "12    0.012897   -0.003990\n",
       "13    0.012434   -0.005257\n",
       "..         ...         ...\n",
       "68    0.012521    0.005047\n",
       "69    0.012962    0.003772\n",
       "70    0.013274    0.002459\n",
       "71    0.013453    0.001122\n",
       "72    0.013498   -0.000227\n",
       "\n",
       "[64 rows x 2 columns]"
      ]
     },
     "execution_count": 89,
     "metadata": {},
     "output_type": "execute_result"
    }
   ],
   "source": [
    "ellipse_coord"
   ]
  },
  {
   "cell_type": "code",
   "execution_count": 90,
   "id": "598d6cf5",
   "metadata": {},
   "outputs": [],
   "source": [
    "ellipse_coord.columns = ['ax', 'ay']"
   ]
  },
  {
   "cell_type": "code",
   "execution_count": 92,
   "id": "93ec8718",
   "metadata": {},
   "outputs": [],
   "source": [
    "ellipse_coord.reset_index(drop=True, inplace=True)"
   ]
  },
  {
   "cell_type": "code",
   "execution_count": 93,
   "id": "5c8e444d",
   "metadata": {},
   "outputs": [
    {
     "data": {
      "text/html": [
       "<div>\n",
       "<style scoped>\n",
       "    .dataframe tbody tr th:only-of-type {\n",
       "        vertical-align: middle;\n",
       "    }\n",
       "\n",
       "    .dataframe tbody tr th {\n",
       "        vertical-align: top;\n",
       "    }\n",
       "\n",
       "    .dataframe thead th {\n",
       "        text-align: right;\n",
       "    }\n",
       "</style>\n",
       "<table border=\"1\" class=\"dataframe\">\n",
       "  <thead>\n",
       "    <tr style=\"text-align: right;\">\n",
       "      <th></th>\n",
       "      <th>ax</th>\n",
       "      <th>ay</th>\n",
       "    </tr>\n",
       "  </thead>\n",
       "  <tbody>\n",
       "    <tr>\n",
       "      <th>0</th>\n",
       "      <td>0.013500</td>\n",
       "      <td>0.000000</td>\n",
       "    </tr>\n",
       "    <tr>\n",
       "      <th>1</th>\n",
       "      <td>0.013433</td>\n",
       "      <td>-0.001348</td>\n",
       "    </tr>\n",
       "    <tr>\n",
       "      <th>2</th>\n",
       "      <td>0.013231</td>\n",
       "      <td>-0.002682</td>\n",
       "    </tr>\n",
       "    <tr>\n",
       "      <th>3</th>\n",
       "      <td>0.012897</td>\n",
       "      <td>-0.003990</td>\n",
       "    </tr>\n",
       "    <tr>\n",
       "      <th>4</th>\n",
       "      <td>0.012434</td>\n",
       "      <td>-0.005257</td>\n",
       "    </tr>\n",
       "    <tr>\n",
       "      <th>...</th>\n",
       "      <td>...</td>\n",
       "      <td>...</td>\n",
       "    </tr>\n",
       "    <tr>\n",
       "      <th>59</th>\n",
       "      <td>0.012521</td>\n",
       "      <td>0.005047</td>\n",
       "    </tr>\n",
       "    <tr>\n",
       "      <th>60</th>\n",
       "      <td>0.012962</td>\n",
       "      <td>0.003772</td>\n",
       "    </tr>\n",
       "    <tr>\n",
       "      <th>61</th>\n",
       "      <td>0.013274</td>\n",
       "      <td>0.002459</td>\n",
       "    </tr>\n",
       "    <tr>\n",
       "      <th>62</th>\n",
       "      <td>0.013453</td>\n",
       "      <td>0.001122</td>\n",
       "    </tr>\n",
       "    <tr>\n",
       "      <th>63</th>\n",
       "      <td>0.013498</td>\n",
       "      <td>-0.000227</td>\n",
       "    </tr>\n",
       "  </tbody>\n",
       "</table>\n",
       "<p>64 rows × 2 columns</p>\n",
       "</div>"
      ],
      "text/plain": [
       "          ax        ay\n",
       "0   0.013500  0.000000\n",
       "1   0.013433 -0.001348\n",
       "2   0.013231 -0.002682\n",
       "3   0.012897 -0.003990\n",
       "4   0.012434 -0.005257\n",
       "..       ...       ...\n",
       "59  0.012521  0.005047\n",
       "60  0.012962  0.003772\n",
       "61  0.013274  0.002459\n",
       "62  0.013453  0.001122\n",
       "63  0.013498 -0.000227\n",
       "\n",
       "[64 rows x 2 columns]"
      ]
     },
     "execution_count": 93,
     "metadata": {},
     "output_type": "execute_result"
    }
   ],
   "source": [
    "ellipse_coord"
   ]
  },
  {
   "cell_type": "code",
   "execution_count": 100,
   "id": "d832ceaa",
   "metadata": {},
   "outputs": [
    {
     "data": {
      "text/plain": [
       "Text(0.5, 0, 'x, m')"
      ]
     },
     "execution_count": 100,
     "metadata": {},
     "output_type": "execute_result"
    },
    {
     "data": {
      "image/png": "[encoded data removed]",
      "text/plain": [
       "<Figure size 432x288 with 1 Axes>"
      ]
     },
     "metadata": {
      "needs_background": "light"
     },
     "output_type": "display_data"
    }
   ],
   "source": [
    "\n",
    "plt.scatter(lost1.x, lost1.y, c='red', s=5)\n",
    "plt.plot(ellipse_coord.ax, ellipse_coord.ay)\n",
    "plt.ylabel('y, m')\n",
    "plt.xlabel('x, m')"
   ]
  },
  {
   "cell_type": "code",
   "execution_count": 125,
   "id": "4b12039d",
   "metadata": {},
   "outputs": [
    {
     "data": {
      "text/plain": [
       "<AxesSubplot:ylabel='Frequency'>"
      ]
     },
     "execution_count": 125,
     "metadata": {},
     "output_type": "execute_result"
    },
    {
     "data": {
      "image/png": "[encoded data removed]",
      "text/plain": [
       "<Figure size 432x288 with 1 Axes>"
      ]
     },
     "metadata": {
      "needs_background": "light"
     },
     "output_type": "display_data"
    }
   ],
   "source": [
    "lost1.plot(y='s', kind='hist',bins=60)"
   ]
  },
  {
   "cell_type": "code",
   "execution_count": 117,
   "id": "528c6948",
   "metadata": {},
   "outputs": [
    {
     "name": "stderr",
     "output_type": "stream",
     "text": [
      "C:\\Users\\User\\AppData\\Local\\Temp\\ipykernel_10832\\1030711569.py:1: FutureWarning: Boolean inputs to the `inclusive` argument are deprecated in favour of `both` or `neither`.\n",
      "  lost1_bladeless= lost1.loc[~((lost1.x.between(-0.006,0.012,inclusive=False))&(lost1.y.between(-0.005,0.005,inclusive=False)))]\n"
     ]
    }
   ],
   "source": [
    "lost1_bladeless= lost1.loc[~((lost1.x.between(-0.006,0.012,inclusive=False))&(lost1.y.between(-0.005,0.005,inclusive=False)))]"
   ]
  },
  {
   "cell_type": "code",
   "execution_count": 114,
   "id": "c22008b1",
   "metadata": {},
   "outputs": [
    {
     "data": {
      "text/html": [
       "<div>\n",
       "<style scoped>\n",
       "    .dataframe tbody tr th:only-of-type {\n",
       "        vertical-align: middle;\n",
       "    }\n",
       "\n",
       "    .dataframe tbody tr th {\n",
       "        vertical-align: top;\n",
       "    }\n",
       "\n",
       "    .dataframe thead th {\n",
       "        text-align: right;\n",
       "    }\n",
       "</style>\n",
       "<table border=\"1\" class=\"dataframe\">\n",
       "  <thead>\n",
       "    <tr style=\"text-align: right;\">\n",
       "      <th></th>\n",
       "      <th>s</th>\n",
       "      <th>x</th>\n",
       "      <th>y</th>\n",
       "    </tr>\n",
       "  </thead>\n",
       "  <tbody>\n",
       "    <tr>\n",
       "      <th>0</th>\n",
       "      <td>269.844567</td>\n",
       "      <td>0.013515</td>\n",
       "      <td>0.000001</td>\n",
       "    </tr>\n",
       "    <tr>\n",
       "      <th>1</th>\n",
       "      <td>269.172793</td>\n",
       "      <td>0.013854</td>\n",
       "      <td>0.000001</td>\n",
       "    </tr>\n",
       "    <tr>\n",
       "      <th>2</th>\n",
       "      <td>264.649245</td>\n",
       "      <td>0.013935</td>\n",
       "      <td>0.00001</td>\n",
       "    </tr>\n",
       "    <tr>\n",
       "      <th>3</th>\n",
       "      <td>264.709245</td>\n",
       "      <td>0.013941</td>\n",
       "      <td>0.000006</td>\n",
       "    </tr>\n",
       "    <tr>\n",
       "      <th>4</th>\n",
       "      <td>265.430051</td>\n",
       "      <td>0.013502</td>\n",
       "      <td>-0.000002</td>\n",
       "    </tr>\n",
       "    <tr>\n",
       "      <th>...</th>\n",
       "      <td>...</td>\n",
       "      <td>...</td>\n",
       "      <td>...</td>\n",
       "    </tr>\n",
       "    <tr>\n",
       "      <th>30179</th>\n",
       "      <td>475.383737</td>\n",
       "      <td>0.01005</td>\n",
       "      <td>0.000201</td>\n",
       "    </tr>\n",
       "    <tr>\n",
       "      <th>30180</th>\n",
       "      <td>255.065942</td>\n",
       "      <td>-0.013507</td>\n",
       "      <td>0.000199</td>\n",
       "    </tr>\n",
       "    <tr>\n",
       "      <th>30182</th>\n",
       "      <td>310.301352</td>\n",
       "      <td>-0.013508</td>\n",
       "      <td>0.000075</td>\n",
       "    </tr>\n",
       "    <tr>\n",
       "      <th>30239</th>\n",
       "      <td>399.627767</td>\n",
       "      <td>-0.013558</td>\n",
       "      <td>0.00099</td>\n",
       "    </tr>\n",
       "    <tr>\n",
       "      <th>30265</th>\n",
       "      <td>463.285402</td>\n",
       "      <td>-0.01352</td>\n",
       "      <td>-0.000034</td>\n",
       "    </tr>\n",
       "  </tbody>\n",
       "</table>\n",
       "<p>22135 rows × 3 columns</p>\n",
       "</div>"
      ],
      "text/plain": [
       "                s         x         y\n",
       "0      269.844567  0.013515  0.000001\n",
       "1      269.172793  0.013854  0.000001\n",
       "2      264.649245  0.013935   0.00001\n",
       "3      264.709245  0.013941  0.000006\n",
       "4      265.430051  0.013502 -0.000002\n",
       "...           ...       ...       ...\n",
       "30179  475.383737   0.01005  0.000201\n",
       "30180  255.065942 -0.013507  0.000199\n",
       "30182  310.301352 -0.013508  0.000075\n",
       "30239  399.627767 -0.013558   0.00099\n",
       "30265  463.285402  -0.01352 -0.000034\n",
       "\n",
       "[22135 rows x 3 columns]"
      ]
     },
     "execution_count": 114,
     "metadata": {},
     "output_type": "execute_result"
    }
   ],
   "source": [
    "lost1_bladeless"
   ]
  },
  {
   "cell_type": "code",
   "execution_count": 118,
   "id": "8a2e4b4c",
   "metadata": {},
   "outputs": [
    {
     "data": {
      "text/plain": [
       "Text(0.5, 0, 'x, m')"
      ]
     },
     "execution_count": 118,
     "metadata": {},
     "output_type": "execute_result"
    },
    {
     "data": {
      "image/png": "[encoded data removed]",
      "text/plain": [
       "<Figure size 432x288 with 1 Axes>"
      ]
     },
     "metadata": {
      "needs_background": "light"
     },
     "output_type": "display_data"
    }
   ],
   "source": [
    "plt.scatter(lost1_bladeless.x, lost1_bladeless.y, c='red', s=5)\n",
    "plt.plot(ellipse_coord.ax, ellipse_coord.ay)\n",
    "plt.ylabel('y, m')\n",
    "plt.xlabel('x, m')"
   ]
  },
  {
   "cell_type": "code",
   "execution_count": 121,
   "id": "6dbab69f",
   "metadata": {},
   "outputs": [
    {
     "data": {
      "text/plain": [
       "<AxesSubplot:ylabel='Frequency'>"
      ]
     },
     "execution_count": 121,
     "metadata": {},
     "output_type": "execute_result"
    },
    {
     "data": {
      "image/png": "[encoded data removed]",
      "text/plain": [
       "<Figure size 432x288 with 1 Axes>"
      ]
     },
     "metadata": {
      "needs_background": "light"
     },
     "output_type": "display_data"
    }
   ],
   "source": [
    "lost1_bladeless.plot(y='s', kind='hist', bins=60)"
   ]
  },
  {
   "cell_type": "code",
   "execution_count": 135,
   "id": "60e04f3d",
   "metadata": {},
   "outputs": [],
   "source": [
    "lost1.sort_values('s', axis=0, inplace=True)"
   ]
  },
  {
   "cell_type": "code",
   "execution_count": 136,
   "id": "12cee64f",
   "metadata": {},
   "outputs": [
    {
     "data": {
      "text/html": [
       "<div>\n",
       "<style scoped>\n",
       "    .dataframe tbody tr th:only-of-type {\n",
       "        vertical-align: middle;\n",
       "    }\n",
       "\n",
       "    .dataframe tbody tr th {\n",
       "        vertical-align: top;\n",
       "    }\n",
       "\n",
       "    .dataframe thead th {\n",
       "        text-align: right;\n",
       "    }\n",
       "</style>\n",
       "<table border=\"1\" class=\"dataframe\">\n",
       "  <thead>\n",
       "    <tr style=\"text-align: right;\">\n",
       "      <th></th>\n",
       "      <th>s</th>\n",
       "      <th>x</th>\n",
       "      <th>y</th>\n",
       "    </tr>\n",
       "  </thead>\n",
       "  <tbody>\n",
       "    <tr>\n",
       "      <th>28111</th>\n",
       "      <td>2.9</td>\n",
       "      <td>-0.003084</td>\n",
       "      <td>-0.013723</td>\n",
       "    </tr>\n",
       "    <tr>\n",
       "      <th>4967</th>\n",
       "      <td>3.3</td>\n",
       "      <td>0.002974</td>\n",
       "      <td>-0.013631</td>\n",
       "    </tr>\n",
       "    <tr>\n",
       "      <th>10296</th>\n",
       "      <td>3.3</td>\n",
       "      <td>0.00228</td>\n",
       "      <td>0.013924</td>\n",
       "    </tr>\n",
       "    <tr>\n",
       "      <th>5558</th>\n",
       "      <td>3.350001</td>\n",
       "      <td>0.00146</td>\n",
       "      <td>-0.013422</td>\n",
       "    </tr>\n",
       "    <tr>\n",
       "      <th>18758</th>\n",
       "      <td>3.400002</td>\n",
       "      <td>0.001345</td>\n",
       "      <td>0.01409</td>\n",
       "    </tr>\n",
       "    <tr>\n",
       "      <th>...</th>\n",
       "      <td>...</td>\n",
       "      <td>...</td>\n",
       "      <td>...</td>\n",
       "    </tr>\n",
       "    <tr>\n",
       "      <th>24964</th>\n",
       "      <td>475.47838</td>\n",
       "      <td>0.009997</td>\n",
       "      <td>-0.000361</td>\n",
       "    </tr>\n",
       "    <tr>\n",
       "      <th>21246</th>\n",
       "      <td>475.667665</td>\n",
       "      <td>0.009999</td>\n",
       "      <td>0.000238</td>\n",
       "    </tr>\n",
       "    <tr>\n",
       "      <th>22063</th>\n",
       "      <td>475.762308</td>\n",
       "      <td>0.010006</td>\n",
       "      <td>-0.000006</td>\n",
       "    </tr>\n",
       "    <tr>\n",
       "      <th>29163</th>\n",
       "      <td>475.762308</td>\n",
       "      <td>0.010002</td>\n",
       "      <td>-0.000156</td>\n",
       "    </tr>\n",
       "    <tr>\n",
       "      <th>21215</th>\n",
       "      <td>475.856951</td>\n",
       "      <td>0.010002</td>\n",
       "      <td>-0.000108</td>\n",
       "    </tr>\n",
       "  </tbody>\n",
       "</table>\n",
       "<p>30309 rows × 3 columns</p>\n",
       "</div>"
      ],
      "text/plain": [
       "                s         x         y\n",
       "28111         2.9 -0.003084 -0.013723\n",
       "4967          3.3  0.002974 -0.013631\n",
       "10296         3.3   0.00228  0.013924\n",
       "5558     3.350001   0.00146 -0.013422\n",
       "18758    3.400002  0.001345   0.01409\n",
       "...           ...       ...       ...\n",
       "24964   475.47838  0.009997 -0.000361\n",
       "21246  475.667665  0.009999  0.000238\n",
       "22063  475.762308  0.010006 -0.000006\n",
       "29163  475.762308  0.010002 -0.000156\n",
       "21215  475.856951  0.010002 -0.000108\n",
       "\n",
       "[30309 rows x 3 columns]"
      ]
     },
     "execution_count": 136,
     "metadata": {},
     "output_type": "execute_result"
    }
   ],
   "source": [
    "lost1"
   ]
  },
  {
   "cell_type": "code",
   "execution_count": 141,
   "id": "19b44a29",
   "metadata": {},
   "outputs": [],
   "source": [
    "Tesla_period_df = pd.read_excel('B_8_sup.xlsx', index_col=0)"
   ]
  },
  {
   "cell_type": "code",
   "execution_count": 143,
   "id": "9d6a21c3",
   "metadata": {},
   "outputs": [
    {
     "data": {
      "text/html": [
       "<div>\n",
       "<style scoped>\n",
       "    .dataframe tbody tr th:only-of-type {\n",
       "        vertical-align: middle;\n",
       "    }\n",
       "\n",
       "    .dataframe tbody tr th {\n",
       "        vertical-align: top;\n",
       "    }\n",
       "\n",
       "    .dataframe thead th {\n",
       "        text-align: right;\n",
       "    }\n",
       "</style>\n",
       "<table border=\"1\" class=\"dataframe\">\n",
       "  <thead>\n",
       "    <tr style=\"text-align: right;\">\n",
       "      <th></th>\n",
       "      <th>Family</th>\n",
       "      <th>Type</th>\n",
       "      <th>s,m</th>\n",
       "      <th>βx , m</th>\n",
       "      <th>βy , m</th>\n",
       "      <th>μ_x,rad</th>\n",
       "      <th>μ_y,rad</th>\n",
       "      <th>Disp_x,m</th>\n",
       "      <th>Angle,rad</th>\n",
       "      <th>K2,1/m2</th>\n",
       "      <th>K3,1/m3</th>\n",
       "      <th>len,m</th>\n",
       "      <th>rho, m</th>\n",
       "      <th>Girder_len,m</th>\n",
       "      <th>B, T</th>\n",
       "      <th>Angle,rad2</th>\n",
       "      <th>E_c,keV</th>\n",
       "    </tr>\n",
       "    <tr>\n",
       "      <th></th>\n",
       "      <th></th>\n",
       "      <th></th>\n",
       "      <th></th>\n",
       "      <th></th>\n",
       "      <th></th>\n",
       "      <th></th>\n",
       "      <th></th>\n",
       "      <th></th>\n",
       "      <th></th>\n",
       "      <th></th>\n",
       "      <th></th>\n",
       "      <th></th>\n",
       "      <th></th>\n",
       "      <th></th>\n",
       "      <th></th>\n",
       "      <th></th>\n",
       "      <th></th>\n",
       "    </tr>\n",
       "  </thead>\n",
       "  <tbody>\n",
       "    <tr>\n",
       "      <th>1</th>\n",
       "      <td>MS1_START</td>\n",
       "      <td>Marker</td>\n",
       "      <td>0.000</td>\n",
       "      <td>15.59743</td>\n",
       "      <td>2.36417</td>\n",
       "      <td>0.00000</td>\n",
       "      <td>0.00000</td>\n",
       "      <td>0.0</td>\n",
       "      <td>NaN</td>\n",
       "      <td>NaN</td>\n",
       "      <td>NaN</td>\n",
       "      <td>0.000</td>\n",
       "      <td>NaN</td>\n",
       "      <td>NaN</td>\n",
       "      <td>NaN</td>\n",
       "      <td>NaN</td>\n",
       "      <td>NaN</td>\n",
       "    </tr>\n",
       "    <tr>\n",
       "      <th>2</th>\n",
       "      <td>DR_265</td>\n",
       "      <td>Drift</td>\n",
       "      <td>0.000</td>\n",
       "      <td>15.59743</td>\n",
       "      <td>2.36417</td>\n",
       "      <td>0.00000</td>\n",
       "      <td>0.00000</td>\n",
       "      <td>0.0</td>\n",
       "      <td>NaN</td>\n",
       "      <td>NaN</td>\n",
       "      <td>NaN</td>\n",
       "      <td>2.650</td>\n",
       "      <td>NaN</td>\n",
       "      <td>NaN</td>\n",
       "      <td>NaN</td>\n",
       "      <td>NaN</td>\n",
       "      <td>NaN</td>\n",
       "    </tr>\n",
       "    <tr>\n",
       "      <th>3</th>\n",
       "      <td>MA1_KIC_3</td>\n",
       "      <td>Multipole</td>\n",
       "      <td>2.650</td>\n",
       "      <td>16.02221</td>\n",
       "      <td>5.16925</td>\n",
       "      <td>0.16843</td>\n",
       "      <td>0.86030</td>\n",
       "      <td>0.0</td>\n",
       "      <td>NaN</td>\n",
       "      <td>0.0</td>\n",
       "      <td>0.0</td>\n",
       "      <td>0.250</td>\n",
       "      <td>NaN</td>\n",
       "      <td>NaN</td>\n",
       "      <td>NaN</td>\n",
       "      <td>NaN</td>\n",
       "      <td>NaN</td>\n",
       "    </tr>\n",
       "    <tr>\n",
       "      <th>4</th>\n",
       "      <td>DR_0075</td>\n",
       "      <td>Drift</td>\n",
       "      <td>2.900</td>\n",
       "      <td>16.10877</td>\n",
       "      <td>5.74085</td>\n",
       "      <td>0.18399</td>\n",
       "      <td>0.90621</td>\n",
       "      <td>0.0</td>\n",
       "      <td>NaN</td>\n",
       "      <td>NaN</td>\n",
       "      <td>NaN</td>\n",
       "      <td>0.075</td>\n",
       "      <td>NaN</td>\n",
       "      <td>NaN</td>\n",
       "      <td>NaN</td>\n",
       "      <td>NaN</td>\n",
       "      <td>NaN</td>\n",
       "    </tr>\n",
       "    <tr>\n",
       "      <th>5</th>\n",
       "      <td>MA1_PKU_1</td>\n",
       "      <td>Monitor</td>\n",
       "      <td>2.975</td>\n",
       "      <td>16.13630</td>\n",
       "      <td>5.92265</td>\n",
       "      <td>0.18864</td>\n",
       "      <td>0.91908</td>\n",
       "      <td>0.0</td>\n",
       "      <td>NaN</td>\n",
       "      <td>0.0</td>\n",
       "      <td>0.0</td>\n",
       "      <td>0.000</td>\n",
       "      <td>NaN</td>\n",
       "      <td>NaN</td>\n",
       "      <td>NaN</td>\n",
       "      <td>NaN</td>\n",
       "      <td>NaN</td>\n",
       "    </tr>\n",
       "  </tbody>\n",
       "</table>\n",
       "</div>"
      ],
      "text/plain": [
       "                                                        Family  \\\n",
       "                                               ...               \n",
       "1                                                   MS1_START    \n",
       "2                                                   DR_265       \n",
       "3                                                   MA1_KIC_3    \n",
       "4                                                   DR_0075      \n",
       "5                                                   MA1_PKU_1    \n",
       "\n",
       "                                                               Type    s,m  \\\n",
       "                                               ...                           \n",
       "1                                                   Marker           0.000   \n",
       "2                                                   Drift            0.000   \n",
       "3                                                   Multipole        2.650   \n",
       "4                                                   Drift            2.900   \n",
       "5                                                   Monitor          2.975   \n",
       "\n",
       "                                                      βx , m   βy , m  \\\n",
       "                                               ...                      \n",
       "1                                                   15.59743  2.36417   \n",
       "2                                                   15.59743  2.36417   \n",
       "3                                                   16.02221  5.16925   \n",
       "4                                                   16.10877  5.74085   \n",
       "5                                                   16.13630  5.92265   \n",
       "\n",
       "                                                    μ_x,rad  μ_y,rad  \\\n",
       "                                               ...                     \n",
       "1                                                   0.00000  0.00000   \n",
       "2                                                   0.00000  0.00000   \n",
       "3                                                   0.16843  0.86030   \n",
       "4                                                   0.18399  0.90621   \n",
       "5                                                   0.18864  0.91908   \n",
       "\n",
       "                                                    Disp_x,m  Angle,rad  \\\n",
       "                                               ...                        \n",
       "1                                                        0.0        NaN   \n",
       "2                                                        0.0        NaN   \n",
       "3                                                        0.0        NaN   \n",
       "4                                                        0.0        NaN   \n",
       "5                                                        0.0        NaN   \n",
       "\n",
       "                                                    K2,1/m2  K3,1/m3  len,m  \\\n",
       "                                               ...                            \n",
       "1                                                       NaN      NaN  0.000   \n",
       "2                                                       NaN      NaN  2.650   \n",
       "3                                                       0.0      0.0  0.250   \n",
       "4                                                       NaN      NaN  0.075   \n",
       "5                                                       0.0      0.0  0.000   \n",
       "\n",
       "                                                    rho, m  Girder_len,m  \\\n",
       "                                               ...                         \n",
       "1                                                      NaN           NaN   \n",
       "2                                                      NaN           NaN   \n",
       "3                                                      NaN           NaN   \n",
       "4                                                      NaN           NaN   \n",
       "5                                                      NaN           NaN   \n",
       "\n",
       "                                                    B, T  Angle,rad2  E_c,keV  \n",
       "                                               ...                             \n",
       "1                                                    NaN         NaN      NaN  \n",
       "2                                                    NaN         NaN      NaN  \n",
       "3                                                    NaN         NaN      NaN  \n",
       "4                                                    NaN         NaN      NaN  \n",
       "5                                                    NaN         NaN      NaN  "
      ]
     },
     "execution_count": 143,
     "metadata": {},
     "output_type": "execute_result"
    }
   ],
   "source": [
    "Tesla_period_df.head()"
   ]
  },
  {
   "cell_type": "code",
   "execution_count": 155,
   "id": "476ca855",
   "metadata": {},
   "outputs": [],
   "source": [
    "mag_length = Tesla_period_df.loc[Tesla_period_df['B, T']>2]['s,m'].agg(lambda x: x.max()-x.min())\n",
    "mag_pos1 = Tesla_period_df.loc[Tesla_period_df['B, T']>2]['s,m'].min()\n",
    "mag_pos2 = Tesla_period_df.loc[Tesla_period_df['B, T']>2]['s,m'].max()"
   ]
  },
  {
   "cell_type": "code",
   "execution_count": 160,
   "id": "24a4c5ee",
   "metadata": {},
   "outputs": [
    {
     "data": {
      "text/plain": [
       "(14.80534, 14.91644)"
      ]
     },
     "execution_count": 160,
     "metadata": {},
     "output_type": "execute_result"
    }
   ],
   "source": [
    "mag_pos1, mag_pos2"
   ]
  },
  {
   "cell_type": "code",
   "execution_count": 201,
   "id": "90a574be",
   "metadata": {},
   "outputs": [],
   "source": [
    "Tesla_df = pd.read_excel('B_8.xlsx', index_col=0)"
   ]
  },
  {
   "cell_type": "code",
   "execution_count": 214,
   "id": "0f0dc89c",
   "metadata": {},
   "outputs": [],
   "source": [
    "super_per = 29.609\n",
    "periods = [(mag_pos1+i*super_per, mag_pos2+i*super_per) for i in range(1,16)]"
   ]
  },
  {
   "cell_type": "code",
   "execution_count": 215,
   "id": "5eb0cf48",
   "metadata": {},
   "outputs": [
    {
     "data": {
      "text/plain": [
       "[(44.41434, 44.52544),\n",
       " (74.02334, 74.13444),\n",
       " (103.63234, 103.74343999999999),\n",
       " (133.24134, 133.35244),\n",
       " (162.85034000000002, 162.96144),\n",
       " (192.45934, 192.57044),\n",
       " (222.06834, 222.17944),\n",
       " (251.67734000000002, 251.78844),\n",
       " (281.28634, 281.39744),\n",
       " (310.89534000000003, 311.00644000000005),\n",
       " (340.50434, 340.61544000000004),\n",
       " (370.11334, 370.22444),\n",
       " (399.72234000000003, 399.83344000000005),\n",
       " (429.33134, 429.44244000000003),\n",
       " (458.94034000000005, 459.05144000000007)]"
      ]
     },
     "execution_count": 215,
     "metadata": {},
     "output_type": "execute_result"
    }
   ],
   "source": [
    "periods"
   ]
  },
  {
   "cell_type": "code",
   "execution_count": 231,
   "id": "961c89b6",
   "metadata": {},
   "outputs": [],
   "source": [
    "k=0\n",
    "for i in periods:\n",
    "    k+=1\n",
    "    lost1[f'period{k}'] = lost1.s.between(i[0],i[1]).astype(int)\n",
    "    lost1['is_rotary_mag'] += lost1[f'period{k}']\n",
    "    lost1.drop(f'period{k}', axis=1, inplace=True)"
   ]
  },
  {
   "cell_type": "code",
   "execution_count": 229,
   "id": "4dca8ebc",
   "metadata": {},
   "outputs": [],
   "source": []
  },
  {
   "cell_type": "code",
   "execution_count": 234,
   "id": "a3732233",
   "metadata": {},
   "outputs": [
    {
     "data": {
      "text/plain": [
       "0    29878\n",
       "1      431\n",
       "Name: is_rotary_mag, dtype: int64"
      ]
     },
     "execution_count": 234,
     "metadata": {},
     "output_type": "execute_result"
    }
   ],
   "source": [
    "lost1.is_rotary_mag.value_counts()"
   ]
  },
  {
   "cell_type": "code",
   "execution_count": 237,
   "id": "be399438",
   "metadata": {},
   "outputs": [],
   "source": [
    "mag_lost_distrib_df = lost1.loc[lost1.is_rotary_mag==1].drop('is_rotary_mag', axis=1)"
   ]
  },
  {
   "cell_type": "code",
   "execution_count": 238,
   "id": "1e94865a",
   "metadata": {},
   "outputs": [
    {
     "data": {
      "text/html": [
       "<div>\n",
       "<style scoped>\n",
       "    .dataframe tbody tr th:only-of-type {\n",
       "        vertical-align: middle;\n",
       "    }\n",
       "\n",
       "    .dataframe tbody tr th {\n",
       "        vertical-align: top;\n",
       "    }\n",
       "\n",
       "    .dataframe thead th {\n",
       "        text-align: right;\n",
       "    }\n",
       "</style>\n",
       "<table border=\"1\" class=\"dataframe\">\n",
       "  <thead>\n",
       "    <tr style=\"text-align: right;\">\n",
       "      <th></th>\n",
       "      <th>s</th>\n",
       "      <th>x</th>\n",
       "      <th>y</th>\n",
       "    </tr>\n",
       "  </thead>\n",
       "  <tbody>\n",
       "    <tr>\n",
       "      <th>2987</th>\n",
       "      <td>429.336572</td>\n",
       "      <td>-0.013743</td>\n",
       "      <td>-0.000001</td>\n",
       "    </tr>\n",
       "    <tr>\n",
       "      <th>4913</th>\n",
       "      <td>429.336572</td>\n",
       "      <td>-0.013716</td>\n",
       "      <td>0.0</td>\n",
       "    </tr>\n",
       "    <tr>\n",
       "      <th>11441</th>\n",
       "      <td>429.336572</td>\n",
       "      <td>-0.013685</td>\n",
       "      <td>0.001269</td>\n",
       "    </tr>\n",
       "    <tr>\n",
       "      <th>27111</th>\n",
       "      <td>429.336572</td>\n",
       "      <td>-0.013595</td>\n",
       "      <td>-0.000003</td>\n",
       "    </tr>\n",
       "    <tr>\n",
       "      <th>12026</th>\n",
       "      <td>429.336572</td>\n",
       "      <td>-0.01378</td>\n",
       "      <td>0.0</td>\n",
       "    </tr>\n",
       "    <tr>\n",
       "      <th>...</th>\n",
       "      <td>...</td>\n",
       "      <td>...</td>\n",
       "      <td>...</td>\n",
       "    </tr>\n",
       "    <tr>\n",
       "      <th>28723</th>\n",
       "      <td>458.983637</td>\n",
       "      <td>-0.013722</td>\n",
       "      <td>0.000002</td>\n",
       "    </tr>\n",
       "    <tr>\n",
       "      <th>11239</th>\n",
       "      <td>458.983637</td>\n",
       "      <td>-0.013665</td>\n",
       "      <td>0.0</td>\n",
       "    </tr>\n",
       "    <tr>\n",
       "      <th>22786</th>\n",
       "      <td>458.983637</td>\n",
       "      <td>-0.013549</td>\n",
       "      <td>-0.000016</td>\n",
       "    </tr>\n",
       "    <tr>\n",
       "      <th>24620</th>\n",
       "      <td>458.983637</td>\n",
       "      <td>-0.013705</td>\n",
       "      <td>-0.000001</td>\n",
       "    </tr>\n",
       "    <tr>\n",
       "      <th>9092</th>\n",
       "      <td>458.983637</td>\n",
       "      <td>-0.013826</td>\n",
       "      <td>-0.000054</td>\n",
       "    </tr>\n",
       "  </tbody>\n",
       "</table>\n",
       "<p>431 rows × 3 columns</p>\n",
       "</div>"
      ],
      "text/plain": [
       "                s         x         y\n",
       "2987   429.336572 -0.013743 -0.000001\n",
       "4913   429.336572 -0.013716       0.0\n",
       "11441  429.336572 -0.013685  0.001269\n",
       "27111  429.336572 -0.013595 -0.000003\n",
       "12026  429.336572  -0.01378       0.0\n",
       "...           ...       ...       ...\n",
       "28723  458.983637 -0.013722  0.000002\n",
       "11239  458.983637 -0.013665       0.0\n",
       "22786  458.983637 -0.013549 -0.000016\n",
       "24620  458.983637 -0.013705 -0.000001\n",
       "9092   458.983637 -0.013826 -0.000054\n",
       "\n",
       "[431 rows x 3 columns]"
      ]
     },
     "execution_count": 238,
     "metadata": {},
     "output_type": "execute_result"
    }
   ],
   "source": [
    "mag_lost_distrib_df"
   ]
  },
  {
   "cell_type": "code",
   "execution_count": 239,
   "id": "8e78c2e5",
   "metadata": {},
   "outputs": [
    {
     "data": {
      "text/plain": [
       "Text(0.5, 0, 'x, m')"
      ]
     },
     "execution_count": 239,
     "metadata": {},
     "output_type": "execute_result"
    },
    {
     "data": {
      "image/png": "[encoded data removed]",
      "text/plain": [
       "<Figure size 432x288 with 1 Axes>"
      ]
     },
     "metadata": {
      "needs_background": "light"
     },
     "output_type": "display_data"
    }
   ],
   "source": [
    "plt.scatter(mag_lost_distrib_df.x, mag_lost_distrib_df.y, c='red', s=5)\n",
    "plt.plot(ellipse_coord.ax, ellipse_coord.ay)\n",
    "plt.ylabel('y, m')\n",
    "plt.xlabel('x, m')"
   ]
  },
  {
   "cell_type": "code",
   "execution_count": 241,
   "id": "52ea4465",
   "metadata": {},
   "outputs": [
    {
     "data": {
      "text/plain": [
       "<AxesSubplot:ylabel='Frequency'>"
      ]
     },
     "execution_count": 241,
     "metadata": {},
     "output_type": "execute_result"
    },
    {
     "data": {
      "image/png": "[encoded data removed]",
      "text/plain": [
       "<Figure size 432x288 with 1 Axes>"
      ]
     },
     "metadata": {
      "needs_background": "light"
     },
     "output_type": "display_data"
    }
   ],
   "source": [
    "lost1_bladeless.plot(y='s', kind='hist', bins=40)"
   ]
  },
  {
   "cell_type": "code",
   "execution_count": null,
   "id": "0cd458ef",
   "metadata": {},
   "outputs": [],
   "source": []
  }
 ],
 "metadata": {
  "kernelspec": {
   "display_name": "Python 3 (ipykernel)",
   "language": "python",
   "name": "python3"
  },
  "language_info": {
   "codemirror_mode": {
    "name": "ipython",
    "version": 3
   },
   "file_extension": ".py",
   "mimetype": "text/x-python",
   "name": "python",
   "nbconvert_exporter": "python",
   "pygments_lexer": "ipython3",
   "version": "3.10.2"
  }
 },
 "nbformat": 4,
 "nbformat_minor": 5
}
