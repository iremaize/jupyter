{
 "cells": [
  {
   "cell_type": "code",
   "execution_count": 1,
   "id": "865fb6fb",
   "metadata": {},
   "outputs": [],
   "source": [
    "import pandas as pd\n",
    "from scipy import stats\n",
    "%matplotlib inline\n",
    "import matplotlib.pyplot as plt\n",
    "import seaborn as sns\n",
    "from collections import Counter"
   ]
  },
  {
   "cell_type": "code",
   "execution_count": 2,
   "id": "90513931",
   "metadata": {},
   "outputs": [],
   "source": [
    "data = pd.read_excel('loss01.xlsx')"
   ]
  },
  {
   "cell_type": "code",
   "execution_count": 3,
   "id": "02cfe0f8",
   "metadata": {},
   "outputs": [
    {
     "data": {
      "text/html": [
       "<div>\n",
       "<style scoped>\n",
       "    .dataframe tbody tr th:only-of-type {\n",
       "        vertical-align: middle;\n",
       "    }\n",
       "\n",
       "    .dataframe tbody tr th {\n",
       "        vertical-align: top;\n",
       "    }\n",
       "\n",
       "    .dataframe thead th {\n",
       "        text-align: right;\n",
       "    }\n",
       "</style>\n",
       "<table border=\"1\" class=\"dataframe\">\n",
       "  <thead>\n",
       "    <tr style=\"text-align: right;\">\n",
       "      <th></th>\n",
       "      <th>Kscraper=</th>\n",
       "      <th>Unnamed: 1</th>\n",
       "      <th>0.00976575387660838</th>\n",
       "      <th>Unnamed: 3</th>\n",
       "      <th>Unnamed: 4</th>\n",
       "      <th>Unnamed: 5</th>\n",
       "      <th>Unnamed: 6</th>\n",
       "      <th>Unnamed: 7</th>\n",
       "      <th>Unnamed: 8</th>\n",
       "      <th>Unnamed: 9</th>\n",
       "      <th>...</th>\n",
       "      <th>Unnamed: 59</th>\n",
       "      <th>Unnamed: 60</th>\n",
       "      <th>Unnamed: 61</th>\n",
       "      <th>Unnamed: 62</th>\n",
       "      <th>Unnamed: 63</th>\n",
       "      <th>Unnamed: 64</th>\n",
       "      <th>Unnamed: 65</th>\n",
       "      <th>Unnamed: 66</th>\n",
       "      <th>Unnamed: 67</th>\n",
       "      <th>Unnamed: 68</th>\n",
       "    </tr>\n",
       "  </thead>\n",
       "  <tbody>\n",
       "    <tr>\n",
       "      <th>0</th>\n",
       "      <td>NaN</td>\n",
       "      <td>NaN</td>\n",
       "      <td>NaN</td>\n",
       "      <td>NaN</td>\n",
       "      <td>NaN</td>\n",
       "      <td>NaN</td>\n",
       "      <td>NaN</td>\n",
       "      <td>NaN</td>\n",
       "      <td>NaN</td>\n",
       "      <td>NaN</td>\n",
       "      <td>...</td>\n",
       "      <td>NaN</td>\n",
       "      <td>NaN</td>\n",
       "      <td>NaN</td>\n",
       "      <td>NaN</td>\n",
       "      <td>NaN</td>\n",
       "      <td>NaN</td>\n",
       "      <td>NaN</td>\n",
       "      <td>NaN</td>\n",
       "      <td>NaN</td>\n",
       "      <td>NaN</td>\n",
       "    </tr>\n",
       "    <tr>\n",
       "      <th>1</th>\n",
       "      <td>NaN</td>\n",
       "      <td>начальные координаты</td>\n",
       "      <td>NaN</td>\n",
       "      <td>NaN</td>\n",
       "      <td>NaN</td>\n",
       "      <td>NaN</td>\n",
       "      <td>начальные координаты оставшихся частиц</td>\n",
       "      <td>NaN</td>\n",
       "      <td>NaN</td>\n",
       "      <td>NaN</td>\n",
       "      <td>...</td>\n",
       "      <td>NaN</td>\n",
       "      <td>NaN</td>\n",
       "      <td>NaN</td>\n",
       "      <td>NaN</td>\n",
       "      <td>NaN</td>\n",
       "      <td>NaN</td>\n",
       "      <td>NaN</td>\n",
       "      <td>NaN</td>\n",
       "      <td>NaN</td>\n",
       "      <td>NaN</td>\n",
       "    </tr>\n",
       "    <tr>\n",
       "      <th>2</th>\n",
       "      <td>NaN</td>\n",
       "      <td>x</td>\n",
       "      <td>y</td>\n",
       "      <td>de</td>\n",
       "      <td>s</td>\n",
       "      <td>NaN</td>\n",
       "      <td>xxa</td>\n",
       "      <td>yya</td>\n",
       "      <td>dea</td>\n",
       "      <td>s</td>\n",
       "      <td>...</td>\n",
       "      <td>Ошибки</td>\n",
       "      <td>NaN</td>\n",
       "      <td>NaN</td>\n",
       "      <td>NaN</td>\n",
       "      <td>NaN</td>\n",
       "      <td>NaN</td>\n",
       "      <td>NaN</td>\n",
       "      <td>NaN</td>\n",
       "      <td>NaN</td>\n",
       "      <td>NaN</td>\n",
       "    </tr>\n",
       "    <tr>\n",
       "      <th>3</th>\n",
       "      <td>NaN</td>\n",
       "      <td>0</td>\n",
       "      <td>NaN</td>\n",
       "      <td>NaN</td>\n",
       "      <td>NaN</td>\n",
       "      <td>NaN</td>\n",
       "      <td>0</td>\n",
       "      <td>NaN</td>\n",
       "      <td>NaN</td>\n",
       "      <td>NaN</td>\n",
       "      <td>...</td>\n",
       "      <td>DX0B</td>\n",
       "      <td>DX0Q</td>\n",
       "      <td>DX0S</td>\n",
       "      <td>0.0</td>\n",
       "      <td>0.0</td>\n",
       "      <td>0.0</td>\n",
       "      <td>Npart</td>\n",
       "      <td>35672.0</td>\n",
       "      <td>bx,m</td>\n",
       "      <td>15.673888</td>\n",
       "    </tr>\n",
       "    <tr>\n",
       "      <th>4</th>\n",
       "      <td>NaN</td>\n",
       "      <td>NaN</td>\n",
       "      <td>NaN</td>\n",
       "      <td>NaN</td>\n",
       "      <td>NaN</td>\n",
       "      <td>NaN</td>\n",
       "      <td>NaN</td>\n",
       "      <td>NaN</td>\n",
       "      <td>NaN</td>\n",
       "      <td>NaN</td>\n",
       "      <td>...</td>\n",
       "      <td>DY0B</td>\n",
       "      <td>DY0Q</td>\n",
       "      <td>DY0S</td>\n",
       "      <td>0.0</td>\n",
       "      <td>0.0</td>\n",
       "      <td>0.0</td>\n",
       "      <td>deltP</td>\n",
       "      <td>0.0</td>\n",
       "      <td>ax</td>\n",
       "      <td>0.005536</td>\n",
       "    </tr>\n",
       "  </tbody>\n",
       "</table>\n",
       "<p>5 rows × 69 columns</p>\n",
       "</div>"
      ],
      "text/plain": [
       "   Kscraper=            Unnamed: 1 0.00976575387660838 Unnamed: 3 Unnamed: 4  \\\n",
       "0        NaN                   NaN                 NaN        NaN        NaN   \n",
       "1        NaN  начальные координаты                 NaN        NaN        NaN   \n",
       "2        NaN                     x                   y         de          s   \n",
       "3        NaN                     0                 NaN        NaN        NaN   \n",
       "4        NaN                   NaN                 NaN        NaN        NaN   \n",
       "\n",
       "   Unnamed: 5                              Unnamed: 6 Unnamed: 7 Unnamed: 8  \\\n",
       "0         NaN                                     NaN        NaN        NaN   \n",
       "1         NaN  начальные координаты оставшихся частиц        NaN        NaN   \n",
       "2         NaN                                     xxa        yya        dea   \n",
       "3         NaN                                       0        NaN        NaN   \n",
       "4         NaN                                     NaN        NaN        NaN   \n",
       "\n",
       "  Unnamed: 9  ...  Unnamed: 59 Unnamed: 60 Unnamed: 61 Unnamed: 62  \\\n",
       "0        NaN  ...          NaN         NaN         NaN         NaN   \n",
       "1        NaN  ...          NaN         NaN         NaN         NaN   \n",
       "2          s  ...       Ошибки         NaN         NaN         NaN   \n",
       "3        NaN  ...         DX0B        DX0Q        DX0S         0.0   \n",
       "4        NaN  ...         DY0B        DY0Q        DY0S         0.0   \n",
       "\n",
       "  Unnamed: 63  Unnamed: 64 Unnamed: 65  Unnamed: 66 Unnamed: 67  Unnamed: 68  \n",
       "0         NaN          NaN         NaN          NaN         NaN          NaN  \n",
       "1         NaN          NaN         NaN          NaN         NaN          NaN  \n",
       "2         NaN          NaN         NaN          NaN         NaN          NaN  \n",
       "3         0.0          0.0       Npart      35672.0        bx,m    15.673888  \n",
       "4         0.0          0.0       deltP          0.0          ax     0.005536  \n",
       "\n",
       "[5 rows x 69 columns]"
      ]
     },
     "execution_count": 3,
     "metadata": {},
     "output_type": "execute_result"
    }
   ],
   "source": [
    "data.head()"
   ]
  },
  {
   "cell_type": "code",
   "execution_count": 4,
   "id": "94125d88",
   "metadata": {},
   "outputs": [],
   "source": [
    "data = data.iloc[:,16:59]"
   ]
  },
  {
   "cell_type": "code",
   "execution_count": 5,
   "id": "6106025e",
   "metadata": {},
   "outputs": [],
   "source": [
    "lost1 = data.iloc[:,[23,24,26]]\n",
    "lost1 = lost1.iloc[2:-1]\n",
    "lost1 = lost1.dropna()\n",
    "lost1.columns = lost1.iloc[0]\n",
    "lost1 = lost1.iloc[1:-1].reset_index(drop=True)"
   ]
  },
  {
   "cell_type": "code",
   "execution_count": 6,
   "id": "8c4b5ab1",
   "metadata": {},
   "outputs": [],
   "source": [
    "lost_angle = data.iloc[:,[39,40,41]]\n",
    "lost_angle = lost_angle.iloc[3:-1]\n",
    "lost_angle = lost_angle.dropna()\n",
    "lost_angle.columns = ['s', 'px', 'py']\n",
    "lost_angle = lost_angle.iloc[1:-1].reset_index(drop=True)"
   ]
  },
  {
   "cell_type": "code",
   "execution_count": 7,
   "id": "253755ba",
   "metadata": {},
   "outputs": [],
   "source": [
    "ellipse_coord = pd.read_excel('loss01.xlsx', sheet_name=2).iloc[9:-1, [3,4]]"
   ]
  },
  {
   "cell_type": "code",
   "execution_count": 8,
   "id": "598d6cf5",
   "metadata": {},
   "outputs": [],
   "source": [
    "ellipse_coord.columns = ['ax', 'ay']"
   ]
  },
  {
   "cell_type": "code",
   "execution_count": 9,
   "id": "93ec8718",
   "metadata": {},
   "outputs": [],
   "source": [
    "ellipse_coord.reset_index(drop=True, inplace=True)"
   ]
  },
  {
   "cell_type": "code",
   "execution_count": 10,
   "id": "5c8e444d",
   "metadata": {},
   "outputs": [
    {
     "data": {
      "text/html": [
       "<div>\n",
       "<style scoped>\n",
       "    .dataframe tbody tr th:only-of-type {\n",
       "        vertical-align: middle;\n",
       "    }\n",
       "\n",
       "    .dataframe tbody tr th {\n",
       "        vertical-align: top;\n",
       "    }\n",
       "\n",
       "    .dataframe thead th {\n",
       "        text-align: right;\n",
       "    }\n",
       "</style>\n",
       "<table border=\"1\" class=\"dataframe\">\n",
       "  <thead>\n",
       "    <tr style=\"text-align: right;\">\n",
       "      <th></th>\n",
       "      <th>ax</th>\n",
       "      <th>ay</th>\n",
       "    </tr>\n",
       "  </thead>\n",
       "  <tbody>\n",
       "    <tr>\n",
       "      <th>0</th>\n",
       "      <td>0.013500</td>\n",
       "      <td>0.000000</td>\n",
       "    </tr>\n",
       "    <tr>\n",
       "      <th>1</th>\n",
       "      <td>0.013433</td>\n",
       "      <td>-0.001348</td>\n",
       "    </tr>\n",
       "    <tr>\n",
       "      <th>2</th>\n",
       "      <td>0.013231</td>\n",
       "      <td>-0.002682</td>\n",
       "    </tr>\n",
       "    <tr>\n",
       "      <th>3</th>\n",
       "      <td>0.012897</td>\n",
       "      <td>-0.003990</td>\n",
       "    </tr>\n",
       "    <tr>\n",
       "      <th>4</th>\n",
       "      <td>0.012434</td>\n",
       "      <td>-0.005257</td>\n",
       "    </tr>\n",
       "    <tr>\n",
       "      <th>...</th>\n",
       "      <td>...</td>\n",
       "      <td>...</td>\n",
       "    </tr>\n",
       "    <tr>\n",
       "      <th>59</th>\n",
       "      <td>0.012521</td>\n",
       "      <td>0.005047</td>\n",
       "    </tr>\n",
       "    <tr>\n",
       "      <th>60</th>\n",
       "      <td>0.012962</td>\n",
       "      <td>0.003772</td>\n",
       "    </tr>\n",
       "    <tr>\n",
       "      <th>61</th>\n",
       "      <td>0.013274</td>\n",
       "      <td>0.002459</td>\n",
       "    </tr>\n",
       "    <tr>\n",
       "      <th>62</th>\n",
       "      <td>0.013453</td>\n",
       "      <td>0.001122</td>\n",
       "    </tr>\n",
       "    <tr>\n",
       "      <th>63</th>\n",
       "      <td>0.013498</td>\n",
       "      <td>-0.000227</td>\n",
       "    </tr>\n",
       "  </tbody>\n",
       "</table>\n",
       "<p>64 rows × 2 columns</p>\n",
       "</div>"
      ],
      "text/plain": [
       "          ax        ay\n",
       "0   0.013500  0.000000\n",
       "1   0.013433 -0.001348\n",
       "2   0.013231 -0.002682\n",
       "3   0.012897 -0.003990\n",
       "4   0.012434 -0.005257\n",
       "..       ...       ...\n",
       "59  0.012521  0.005047\n",
       "60  0.012962  0.003772\n",
       "61  0.013274  0.002459\n",
       "62  0.013453  0.001122\n",
       "63  0.013498 -0.000227\n",
       "\n",
       "[64 rows x 2 columns]"
      ]
     },
     "execution_count": 10,
     "metadata": {},
     "output_type": "execute_result"
    }
   ],
   "source": [
    "ellipse_coord"
   ]
  },
  {
   "cell_type": "code",
   "execution_count": 11,
   "id": "d832ceaa",
   "metadata": {},
   "outputs": [
    {
     "data": {
      "text/plain": [
       "Text(0.5, 0, 'x, m')"
      ]
     },
     "execution_count": 11,
     "metadata": {},
     "output_type": "execute_result"
    },
    {
     "data": {
      "image/png": "[encoded data removed]",
      "text/plain": [
       "<Figure size 432x288 with 1 Axes>"
      ]
     },
     "metadata": {
      "needs_background": "light"
     },
     "output_type": "display_data"
    }
   ],
   "source": [
    "plt.scatter(lost1.x, lost1.y, c='red', s=5)\n",
    "plt.plot(ellipse_coord.ax, ellipse_coord.ay)\n",
    "plt.ylabel('y, m')\n",
    "plt.xlabel('x, m')"
   ]
  },
  {
   "cell_type": "code",
   "execution_count": 12,
   "id": "0f0dc89c",
   "metadata": {},
   "outputs": [],
   "source": [
    "super_per = 29.609\n",
    "blade_periods = [(i*super_per , 1+i*super_per) for i in range(0,15)] + [(i*super_per-1, i*super_per) for i in range(1,16)]\n",
    "lin_periods = [(i*super_per , 4.337+i*super_per) for i in range(0,15)] + [(i*super_per-4.337, i*super_per) for i in range(1,16)]"
   ]
  },
  {
   "cell_type": "code",
   "execution_count": 13,
   "id": "961c89b6",
   "metadata": {},
   "outputs": [],
   "source": [
    "k=0\n",
    "lost1['is_blade'] = 0\n",
    "lost_angle['is_blade'] = 0\n",
    "lost1['is_lin'] = 0\n",
    "lost_angle['is_lin'] = 0\n",
    "for i in blade_periods:\n",
    "    k+=1\n",
    "    lost1[f'period{k}'] = lost1.s.between(i[0],i[1]).astype(int)\n",
    "    lost1['is_blade'] += lost1[f'period{k}']\n",
    "    lost1.drop(f'period{k}', axis=1, inplace=True)\n",
    "    \n",
    "    lost_angle[f'period{k}'] = lost_angle.s.between(i[0],i[1]).astype(int)\n",
    "    lost_angle['is_blade'] += lost_angle[f'period{k}']\n",
    "    lost_angle.drop(f'period{k}', axis=1, inplace=True)\n",
    "    \n",
    "k=0\n",
    "for i in lin_periods:\n",
    "    k+=1\n",
    "    lost1[f'period{k}'] = lost1.s.between(i[0],i[1]).astype(int)\n",
    "    lost1['is_lin'] += lost1[f'period{k}']\n",
    "    lost1.drop(f'period{k}', axis=1, inplace=True)\n",
    "    \n",
    "    lost_angle[f'period{k}'] = lost_angle.s.between(i[0],i[1]).astype(int)\n",
    "    lost_angle['is_lin'] += lost_angle[f'period{k}']\n",
    "    lost_angle.drop(f'period{k}', axis=1, inplace=True)\n"
   ]
  },
  {
   "cell_type": "code",
   "execution_count": 14,
   "id": "8e78c2e5",
   "metadata": {},
   "outputs": [
    {
     "data": {
      "text/plain": [
       "Text(0.5, 0, 'x, m')"
      ]
     },
     "execution_count": 14,
     "metadata": {},
     "output_type": "execute_result"
    },
    {
     "data": {
      "image/png": "[encoded data removed]",
      "text/plain": [
       "<Figure size 432x288 with 1 Axes>"
      ]
     },
     "metadata": {
      "needs_background": "light"
     },
     "output_type": "display_data"
    }
   ],
   "source": [
    "mag_blade_distrib_df = lost1.loc[lost1.is_blade==1].drop('is_blade', axis=1)\n",
    "plt.scatter(mag_blade_distrib_df.x, mag_blade_distrib_df.y, c='red', s=5)\n",
    "plt.plot(ellipse_coord.ax, ellipse_coord.ay)\n",
    "plt.ylabel('y, m')\n",
    "plt.xlabel('x, m')"
   ]
  },
  {
   "cell_type": "code",
   "execution_count": 15,
   "id": "0cd458ef",
   "metadata": {},
   "outputs": [
    {
     "data": {
      "text/plain": [
       "Text(0.5, 0, 'x, m')"
      ]
     },
     "execution_count": 15,
     "metadata": {},
     "output_type": "execute_result"
    },
    {
     "data": {
      "image/png": "[encoded data removed]",
      "text/plain": [
       "<Figure size 432x288 with 1 Axes>"
      ]
     },
     "metadata": {
      "needs_background": "light"
     },
     "output_type": "display_data"
    }
   ],
   "source": [
    "mag_lin_distrib_df = lost1.loc[lost1.is_lin==1].drop('is_lin', axis=1)\n",
    "plt.scatter(mag_lin_distrib_df.x, mag_lin_distrib_df.y, c='red', s=5)\n",
    "plt.plot(ellipse_coord.ax, ellipse_coord.ay)\n",
    "plt.ylabel('y, m')\n",
    "plt.xlabel('x, m')"
   ]
  },
  {
   "cell_type": "code",
   "execution_count": 23,
   "id": "7324ac59",
   "metadata": {},
   "outputs": [
    {
     "data": {
      "text/plain": [
       "Text(0.5, 0, 'px, m')"
      ]
     },
     "execution_count": 23,
     "metadata": {},
     "output_type": "execute_result"
    },
    {
     "data": {
      "image/png": "[encoded data removed]",
      "text/plain": [
       "<Figure size 432x288 with 1 Axes>"
      ]
     },
     "metadata": {
      "needs_background": "light"
     },
     "output_type": "display_data"
    }
   ],
   "source": [
    "angle_lin_distrib_df = lost_angle.loc[lost1.is_lin==1].drop(['is_blade','is_lin'], axis=1)\n",
    "plt.scatter(angle_lin_distrib_df.px, angle_lin_distrib_df.py, c='red', s=5)\n",
    "plt.plot(ellipse_coord.ax, ellipse_coord.ay)\n",
    "plt.ylabel('py, m')\n",
    "plt.xlabel('px, m')"
   ]
  },
  {
   "cell_type": "code",
   "execution_count": 17,
   "id": "bafe9e9b",
   "metadata": {},
   "outputs": [
    {
     "data": {
      "text/plain": [
       "(array([100.,  40.,  94., 418.,  22.,  13.,  12.,   0.,  13.,  12.]),\n",
       " array([-0.00963103, -0.006492  , -0.00335297, -0.00021394,  0.00292509,\n",
       "         0.00606412,  0.00920315,  0.01234218,  0.01548121,  0.01862024,\n",
       "         0.02175927]),\n",
       " <BarContainer object of 10 artists>)"
      ]
     },
     "execution_count": 17,
     "metadata": {},
     "output_type": "execute_result"
    },
    {
     "data": {
      "image/png": "[encoded data removed]",
      "text/plain": [
       "<Figure size 432x288 with 1 Axes>"
      ]
     },
     "metadata": {
      "needs_background": "light"
     },
     "output_type": "display_data"
    }
   ],
   "source": [
    "plt.hist(angle_lin_distrib_df.px, bins=10)"
   ]
  },
  {
   "cell_type": "code",
   "execution_count": 18,
   "id": "6bade0db",
   "metadata": {},
   "outputs": [
    {
     "data": {
      "text/plain": [
       "(array([  1.,   0.,   4.,   8., 586., 113.,   9.,   2.,   0.,   1.]),\n",
       " array([-0.01503434, -0.01199456, -0.00895478, -0.00591501, -0.00287523,\n",
       "         0.00016455,  0.00320433,  0.0062441 ,  0.00928388,  0.01232366,\n",
       "         0.01536344]),\n",
       " <BarContainer object of 10 artists>)"
      ]
     },
     "execution_count": 18,
     "metadata": {},
     "output_type": "execute_result"
    },
    {
     "data": {
      "image/png": "[encoded data removed]",
      "text/plain": [
       "<Figure size 432x288 with 1 Axes>"
      ]
     },
     "metadata": {
      "needs_background": "light"
     },
     "output_type": "display_data"
    }
   ],
   "source": [
    "plt.hist(angle_lin_distrib_df.py, bins=10)"
   ]
  },
  {
   "cell_type": "code",
   "execution_count": 24,
   "id": "6a3f593f",
   "metadata": {},
   "outputs": [],
   "source": [
    "angle_blade_distrib_df = lost_angle.loc[lost1.is_blade==1].drop(['is_blade','is_lin'], axis=1)"
   ]
  },
  {
   "cell_type": "code",
   "execution_count": 25,
   "id": "a7732015",
   "metadata": {},
   "outputs": [
    {
     "data": {
      "text/html": [
       "<div>\n",
       "<style scoped>\n",
       "    .dataframe tbody tr th:only-of-type {\n",
       "        vertical-align: middle;\n",
       "    }\n",
       "\n",
       "    .dataframe tbody tr th {\n",
       "        vertical-align: top;\n",
       "    }\n",
       "\n",
       "    .dataframe thead th {\n",
       "        text-align: right;\n",
       "    }\n",
       "</style>\n",
       "<table border=\"1\" class=\"dataframe\">\n",
       "  <thead>\n",
       "    <tr style=\"text-align: right;\">\n",
       "      <th></th>\n",
       "      <th>s</th>\n",
       "      <th>px</th>\n",
       "      <th>py</th>\n",
       "    </tr>\n",
       "  </thead>\n",
       "  <tbody>\n",
       "    <tr>\n",
       "      <th>0</th>\n",
       "      <td>3.350001</td>\n",
       "      <td>-0.002565</td>\n",
       "      <td>-1.503434e-02</td>\n",
       "    </tr>\n",
       "    <tr>\n",
       "      <th>1</th>\n",
       "      <td>3.400002</td>\n",
       "      <td>-0.002819</td>\n",
       "      <td>1.595104e-04</td>\n",
       "    </tr>\n",
       "    <tr>\n",
       "      <th>2</th>\n",
       "      <td>26.408804</td>\n",
       "      <td>0.021109</td>\n",
       "      <td>2.529420e-07</td>\n",
       "    </tr>\n",
       "    <tr>\n",
       "      <th>3</th>\n",
       "      <td>26.518805</td>\n",
       "      <td>0.016644</td>\n",
       "      <td>-3.143396e-06</td>\n",
       "    </tr>\n",
       "    <tr>\n",
       "      <th>4</th>\n",
       "      <td>26.578805</td>\n",
       "      <td>0.011692</td>\n",
       "      <td>3.975648e-07</td>\n",
       "    </tr>\n",
       "    <tr>\n",
       "      <th>...</th>\n",
       "      <td>...</td>\n",
       "      <td>...</td>\n",
       "      <td>...</td>\n",
       "    </tr>\n",
       "    <tr>\n",
       "      <th>1079</th>\n",
       "      <td>463.377577</td>\n",
       "      <td>0.000343</td>\n",
       "      <td>-1.154828e-05</td>\n",
       "    </tr>\n",
       "    <tr>\n",
       "      <th>1080</th>\n",
       "      <td>466.084977</td>\n",
       "      <td>-0.005198</td>\n",
       "      <td>-4.341619e-04</td>\n",
       "    </tr>\n",
       "    <tr>\n",
       "      <th>1081</th>\n",
       "      <td>469.387927</td>\n",
       "      <td>-0.007113</td>\n",
       "      <td>9.742362e-07</td>\n",
       "    </tr>\n",
       "    <tr>\n",
       "      <th>1082</th>\n",
       "      <td>469.458852</td>\n",
       "      <td>-0.006981</td>\n",
       "      <td>-1.278213e-06</td>\n",
       "    </tr>\n",
       "    <tr>\n",
       "      <th>1083</th>\n",
       "      <td>469.579777</td>\n",
       "      <td>-0.003391</td>\n",
       "      <td>1.515340e-06</td>\n",
       "    </tr>\n",
       "  </tbody>\n",
       "</table>\n",
       "<p>724 rows × 3 columns</p>\n",
       "</div>"
      ],
      "text/plain": [
       "               s        px            py\n",
       "0       3.350001 -0.002565 -1.503434e-02\n",
       "1       3.400002 -0.002819  1.595104e-04\n",
       "2      26.408804  0.021109  2.529420e-07\n",
       "3      26.518805  0.016644 -3.143396e-06\n",
       "4      26.578805  0.011692  3.975648e-07\n",
       "...          ...       ...           ...\n",
       "1079  463.377577  0.000343 -1.154828e-05\n",
       "1080  466.084977 -0.005198 -4.341619e-04\n",
       "1081  469.387927 -0.007113  9.742362e-07\n",
       "1082  469.458852 -0.006981 -1.278213e-06\n",
       "1083  469.579777 -0.003391  1.515340e-06\n",
       "\n",
       "[724 rows x 3 columns]"
      ]
     },
     "execution_count": 25,
     "metadata": {},
     "output_type": "execute_result"
    }
   ],
   "source": [
    "angle_lin_distrib_df"
   ]
  },
  {
   "cell_type": "code",
   "execution_count": 26,
   "id": "2624ca39",
   "metadata": {},
   "outputs": [],
   "source": [
    "angle_lin_distrib_df.to_csv('angles_all_lin.csv', index=False)\n",
    "angle_blade_distrib_df.to_csv('angles_1m_lin.csv', index=False)"
   ]
  },
  {
   "cell_type": "code",
   "execution_count": null,
   "id": "b16b572a",
   "metadata": {},
   "outputs": [],
   "source": []
  }
 ],
 "metadata": {
  "kernelspec": {
   "display_name": "Python 3 (ipykernel)",
   "language": "python",
   "name": "python3"
  },
  "language_info": {
   "codemirror_mode": {
    "name": "ipython",
    "version": 3
   },
   "file_extension": ".py",
   "mimetype": "text/x-python",
   "name": "python",
   "nbconvert_exporter": "python",
   "pygments_lexer": "ipython3",
   "version": "3.10.2"
  }
 },
 "nbformat": 4,
 "nbformat_minor": 5
}
